{
 "cells": [
  {
   "cell_type": "code",
   "execution_count": null,
   "metadata": {},
   "outputs": [],
   "source": []
  },
  {
   "cell_type": "markdown",
   "metadata": {},
   "source": [
    "# Evidencia Final: Entornos Multiagentes"
   ]
  },
  {
   "cell_type": "markdown",
   "metadata": {},
   "source": [
    "**Integrantes:**\n",
    "- Karla González Sánchez A01541526\n",
    "- Luis Ángel Alba Alfaro A01640314\n",
    "- María Fernanda Elizalde Macías A01634135\n",
    "- Sofía del Pilar Batiz Martínez A01634125\n",
    "\n",
    "**Modelación de sistemas multiagentes con gráficas computacionales** \n",
    "- Gamaliel Abisay Palomo Briones  \n",
    "- Omar Mendoza Montoya  \n",
    "- Guillermo Gabriel Rivas Aguilar \n",
    "   \n",
    "30 de noviembre de 2022  "
   ]
  },
  {
   "cell_type": "markdown",
   "metadata": {},
   "source": [
    "### Importar librerías"
   ]
  },
  {
   "cell_type": "code",
   "execution_count": null,
   "metadata": {},
   "outputs": [],
   "source": [
    "import agentpy as ap \n",
    "import numpy as np \n",
    "import matplotlib.pyplot as plt\n",
    "import math\n",
    "import IPython\n",
    "import random\n",
    "import json"
   ]
  },
  {
   "cell_type": "markdown",
   "metadata": {},
   "source": [
    "### Definir las clases de agentes"
   ]
  },
  {
   "cell_type": "markdown",
   "metadata": {},
   "source": [
    "#### Clase de Semáforos"
   ]
  },
  {
   "cell_type": "code",
   "execution_count": null,
   "metadata": {},
   "outputs": [],
   "source": [
    "class TrafficLight(ap.Agent):\n",
    "    def setup(self):\n",
    "        self.step_time = 0.1\n",
    "        self.direction = [0, 1] #0 -> sur, 1 -> norte\n",
    "        self.color = 'green'\n",
    "\n",
    "        self.color_time = 0\n",
    "        self.green_time = 0\n",
    "        self.yellow_time = 0\n",
    "        self.red_time = 0\n",
    "\n",
    "    def set_green(self):\n",
    "        self.color = 'green'\n",
    "        self.color_time = 0\n",
    "        \n",
    "    def set_yellow(self):\n",
    "        self.color = 'yellow'\n",
    "        self.color_time = 0\n",
    "        \n",
    "    def set_red(self):\n",
    "        self.color = 'red'\n",
    "        self.color_time = 0\n",
    "        \n",
    "    def update(self):\n",
    "        self.color_time += self.step_time\n",
    "\n",
    "        if self.color == 'green' and self.color_time >= self.green_time:\n",
    "            self.set_yellow()\n",
    "            \n",
    "        if self.color == 'yellow' and self.color_time >= self.yellow_time:\n",
    "            self.set_red()\n",
    "            \n",
    "        if self.color == 'red' and self.color_time >= self.red_time:\n",
    "            self.set_green()\n"
   ]
  },
  {
   "cell_type": "markdown",
   "metadata": {},
   "source": [
    "#### Clase de Auto"
   ]
  },
  {
   "cell_type": "code",
   "execution_count": null,
   "metadata": {},
   "outputs": [],
   "source": [
    "class Car(ap.Agent):\n",
    "    def setup(self):\n",
    "        self.step_time = 0.1\n",
    "        self.direction = [0, 1] #0 -> sur, 1 -> norte\n",
    "        self.speed = 0.0\n",
    "        self.max_speed = 16.66\n",
    "        self.state = 0 #0 -> regular, 1 -> choque\n",
    "    \n",
    "    def update_position(self):\n",
    "        if self.state == 1:\n",
    "            return\n",
    "\n",
    "        pos = [self.speed * self.step_time * self.direction[0], self.speed * self.step_time * self.direction[1]]\n",
    "        self.model.avenue.move_by(self, pos)\n",
    "    \n",
    "    def update_speed(self):\n",
    "        if self.state == 1:\n",
    "            return\n",
    "        \n",
    "        pos_init = self.model.avenue.positions[self]\n",
    "        minimum_car_separation = 1000000000000\n",
    "\n",
    "        for car in self.model.cars:\n",
    "            if car == self:\n",
    "                continue\n",
    "\n",
    "            pos_final = self.model.avenue.positions[car]\n",
    "            d1 = pos_final[0] - pos_init[0]\n",
    "            d2 = pos_final[1] - pos_init[1]\n",
    "\n",
    "            car1 = self.direction[0] * car.direction[0] + self.direction[1] * car.direction[1]\n",
    "            car2 = d1 * self.direction[0] + d2 * self.direction[1]\n",
    "\n",
    "            if car1 > 0 and car2 > 0:\n",
    "                res = math.sqrt(d1**2 + d2**2) #producto punto\n",
    "                if res < minimum_car_separation:\n",
    "                    minimum_car_separation = res\n",
    "        \n",
    "        traffic_light_color = 'green'\n",
    "        minimum_traffic_light_separation = 1000000000000\n",
    "\n",
    "        for traffic_light in self.model.traffic_lights:\n",
    "            pos_final = self.model.avenue.positions[traffic_light]\n",
    "            d1 = pos_final[0] - pos_init[0]\n",
    "            d2 = pos_final[1] - pos_init[1]\n",
    "\n",
    "            tl1 = self.direction[0] * traffic_light.direction[0] + self.direction[1] * traffic_light.direction[1]\n",
    "            tl2 = d1 * self.direction[0] + d2 * self.direction[1]\n",
    "\n",
    "            if tl1 < 0 and tl2 > 0:\n",
    "                res = math.sqrt(d1**2 + d2**2)\n",
    "                if res < minimum_traffic_light_separation:\n",
    "                    minimum_traffic_light_separation = res\n",
    "                    traffic_light_color = traffic_light.color\n",
    "        \n",
    "        if minimum_car_separation < 2:\n",
    "            self.speed = 0\n",
    "            self.state = 1\n",
    "            \n",
    "        elif minimum_car_separation < 5:\n",
    "            self.speed = 0\n",
    "            self.state = 0\n",
    "        \n",
    "        elif minimum_car_separation < 10:\n",
    "            self.speed = np.maximum(self.speed - 10 * self.step_time, 0)\n",
    "        \n",
    "        elif minimum_car_separation < 15:\n",
    "            self.speed = np.maximum(self.speed - 5 * self.step_time, 0)\n",
    "\n",
    "        elif minimum_traffic_light_separation < 20 and traffic_light_color == 'yellow':\n",
    "            self.speed = np.minimum(self.speed + 2.5 * self.step_time, self.max_speed)\n",
    "            \n",
    "        elif minimum_traffic_light_separation < 30 and traffic_light_color == 'red':\n",
    "            self.speed = np.maximum(self.speed - 10 * self.step_time, 0)\n",
    "\n",
    "        elif minimum_traffic_light_separation < 40 and traffic_light_color == 'yellow':\n",
    "            self.speed = np.maximum(self.speed - 2.5 * self.step_time, 5)\n",
    "\n",
    "        elif minimum_traffic_light_separation < 50 and traffic_light_color == 'red':\n",
    "            self.speed = np.maximum(self.speed - 2.5 * self.step_time, 5)\n",
    "\n",
    "        else:\n",
    "            self.speed = np.minimum(self.speed + 2.0 * self.step_time, self.max_speed)\n",
    "   "
   ]
  },
  {
   "cell_type": "markdown",
   "metadata": {},
   "source": [
    "### Definir clase del Modelo"
   ]
  },
  {
   "cell_type": "code",
   "execution_count": null,
   "metadata": {},
   "outputs": [],
   "source": [
    "class AvenueModel(ap.Model):\n",
    "    def setup(self):\n",
    "        self.crashes = 0\n",
    "        self.cars = ap.AgentList(self, self.p.cars, Car)\n",
    "        self.cars.step_time = self.p.step_time\n",
    "        self.cars.speed = self.p.v0\n",
    "\n",
    "        cars_north = self.p.cars // 2\n",
    "        cars_south = self.p.cars - cars_north\n",
    "\n",
    "        for i in range(cars_north):\n",
    "            self.cars[i].direction = [0, 1]\n",
    "        \n",
    "        for i in range(cars_south):\n",
    "            self.cars[cars_north + i].direction = [0, -1]\n",
    "        \n",
    "        self.traffic_lights = ap.AgentList(self, 2, TrafficLight)\n",
    "        self.traffic_lights.step_time = self.p.step_time\n",
    "        self.traffic_lights.green_time += self.p.green_time\n",
    "        self.traffic_lights.yellow_time += self.p.yellow_time\n",
    "        self.traffic_lights.red_time += self.p.red_time\n",
    "        self.traffic_lights[0].direction = [0, 1]\n",
    "        self.traffic_lights[1].direction = [0, -1]\n",
    "\n",
    "        self.avenue = ap.Space(self, shape = [60, self.p.size], torus = True)\n",
    "        self.avenue.add_agents(self.traffic_lights, random = True)\n",
    "        self.avenue.move_to(self.traffic_lights[0], [10, self.p.size * 0.5 - 5])\n",
    "        self.avenue.move_to(self.traffic_lights[1], [50, self.p.size * 0.5 + 5])\n",
    "\n",
    "        self.avenue.add_agents(self.cars, random = True)\n",
    "\n",
    "        for i in range(cars_north):\n",
    "            self.avenue.move_to(self.cars[i], [40, 10 * (i + 1)])\n",
    "        \n",
    "        for i in range(cars_south):\n",
    "            self.avenue.move_to(self.cars[i + cars_north], [20, self.p.size - 10 * (i + 1)])\n",
    "\n",
    "        #Creacion del JSON\n",
    "        if self.p.getJson == True:\n",
    "            self.frames = 0\n",
    "            self.data = {}\n",
    "            self.data['frames'] = []\n",
    "\n",
    "    def step(self):\n",
    "        self.traffic_lights.update()\n",
    "        self.cars.update_position()\n",
    "        self.cars.update_speed()\n",
    "\n",
    "        #Creacion del JSON\n",
    "        if self.p.getJson == True:\n",
    "            cars_list = []\n",
    "            traffic_lights_list = []\n",
    "\n",
    "            for i in range(self.p.cars):\n",
    "                cars_list.append({\n",
    "                    'id': i,\n",
    "                    'x': self.model.avenue.positions[self.cars[i]][0],\n",
    "                    'z': self.model.avenue.positions[self.cars[i]][1],\n",
    "                    'dir': math.atan2(self.cars[i].direction[0], self.cars[i].direction[1]) * 180 / math.pi\n",
    "                })\n",
    "            \n",
    "            for i in range(len(self.traffic_lights)):\n",
    "                traffic_lights_list.append({\n",
    "                    'id': i + self.model.p.cars,\n",
    "                    'color': self.traffic_lights[i].color\n",
    "                })\n",
    "\n",
    "            self.data['frames'].append({\n",
    "                'frame': self.frames,\n",
    "                'cars': cars_list,\n",
    "                'traffic_lights': traffic_lights_list\n",
    "            })\n",
    "\n",
    "            self.frames += 1\n",
    "\n",
    "        \n",
    "    def update(self):\n",
    "        self.crashes = len(self.cars.select(self.cars.state == 1))\n",
    "        self.record('Crashes', self.crashes)\n",
    "       \n",
    "    def end(self):\n",
    "        self.crashes = len(self.cars.select(self.cars.state == 1))\n",
    "        self.report('Crashes', self.crashes)\n",
    "\n",
    "        #Creacion del JSON\n",
    "        if self.p.getJson == True:\n",
    "            file_json = json.dumps(self.data)\n",
    "            with open('data.json', 'w') as outfile:\n",
    "                outfile.write(file_json)"
   ]
  },
  {
   "cell_type": "markdown",
   "metadata": {},
   "source": [
    "#### Definir la animación"
   ]
  },
  {
   "cell_type": "code",
   "execution_count": null,
   "metadata": {},
   "outputs": [],
   "source": [
    "def animation_plot_single(model, ax):\n",
    "    ax.set_title(f\"Simulacion de una Avenida\\n\"\n",
    "                 f\"Time-step: {model.t * model.p.step_time:.2f}\\n\"\n",
    "                 f\"Crashes: {model.crashes}\")\n",
    "\n",
    "    tl1_pos = model.avenue.positions[model.traffic_lights[0]]\n",
    "    ax.scatter(*tl1_pos, s = 20, c = model.traffic_lights[0].color)\n",
    "    tl2_pos = model.avenue.positions[model.traffic_lights[1]]\n",
    "    ax.scatter(*tl2_pos, s = 20, c = model.traffic_lights[1].color)\n",
    "\n",
    "    ax.set_xlim(0, model.avenue.shape[0])\n",
    "    ax.set_ylim(0, model.avenue.shape[1])\n",
    "\n",
    "    for car in model.cars:\n",
    "        car_pos = model.avenue.positions[car]\n",
    "        ax.scatter(*car_pos, s = 20, c = 'black')\n",
    "    \n",
    "    ax.set_axis_off()\n",
    "    ax.set_aspect('equal', 'box')\n",
    "\n",
    "def animation_plot(model, params):\n",
    "    fig = plt.figure(figsize = (10, 10))\n",
    "    ax = fig.add_subplot(111)\n",
    "    animation = ap.animate(model(params), fig, ax, animation_plot_single)\n",
    "    return IPython.display.HTML(animation.to_jshtml(fps = 15))"
   ]
  },
  {
   "cell_type": "markdown",
   "metadata": {},
   "source": [
    "### Simulación"
   ]
  },
  {
   "cell_type": "markdown",
   "metadata": {},
   "source": [
    "#### Definir parametros"
   ]
  },
  {
   "cell_type": "code",
   "execution_count": null,
   "metadata": {},
   "outputs": [],
   "source": [
    "parameters = {\n",
    "    'steps' : 1000,\n",
    "    'step_time' : 0.1,\n",
    "    'size' : 100,\n",
    "    'green_time' : random.randint(5,10),\n",
    "    'yellow_time' : 5,\n",
    "    'red_time' : 60,\n",
    "    'cars' : 10,\n",
    "    'v0' : 0,\n",
    "    'getJson' : True\n",
    "}"
   ]
  },
  {
   "cell_type": "markdown",
   "metadata": {},
   "source": [
    "#### Ejecutar el modelo"
   ]
  },
  {
   "cell_type": "code",
   "execution_count": null,
   "metadata": {},
   "outputs": [],
   "source": [
    "model = AvenueModel(parameters)\n",
    "results = model.run()"
   ]
  },
  {
   "cell_type": "markdown",
   "metadata": {},
   "source": [
    "#### Ver los reportes de choques"
   ]
  },
  {
   "cell_type": "code",
   "execution_count": null,
   "metadata": {},
   "outputs": [],
   "source": [
    "results.reporters #En total"
   ]
  },
  {
   "cell_type": "markdown",
   "metadata": {},
   "source": [
    "#### Ver animación"
   ]
  },
  {
   "cell_type": "code",
   "execution_count": null,
   "metadata": {},
   "outputs": [],
   "source": [
    "animation_plot(AvenueModel, parameters)"
   ]
  }
 ],
 "metadata": {
  "kernelspec": {
   "display_name": "Python 3.11.0 64-bit",
   "language": "python",
   "name": "python3"
  },
  "language_info": {
   "name": "python",
   "version": "3.11.0"
  },
  "orig_nbformat": 4,
  "vscode": {
   "interpreter": {
    "hash": "6307d36e605a5f76f16802460a8cd51e90daeb715e4ef5468cdd1d2d01f9f080"
   }
  }
 },
 "nbformat": 4,
 "nbformat_minor": 2
}
